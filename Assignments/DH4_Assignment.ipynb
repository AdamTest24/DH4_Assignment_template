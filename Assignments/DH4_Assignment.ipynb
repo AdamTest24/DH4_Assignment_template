{
 "cells": [
  {
   "cell_type": "markdown",
   "id": "e55ebb43",
   "metadata": {},
   "source": [
    "## L2D Assignment - Data Handling 4:"
   ]
  },
  {
   "cell_type": "markdown",
   "id": "a49d1f7a",
   "metadata": {},
   "source": [
    "This notebook contains your assignment questions for the Data Handling 4 lesson. Please attempt and complete all questions. The topics this assignment will assess are:\n",
    "\n",
    "1. Time Series\n",
    "\n",
    "\n",
    "When you have completed your assignment, please commit the changes to your GitHub repository's 'Assignments' folder, as instructed in the [Assignments section](https://learntodiscover.github.io/L2D-Handbook/section7.html) of the [L2D Handbook](https://learntodiscover.github.io/L2D-Handbook).\n"
   ]
  },
  {
   "cell_type": "markdown",
   "id": "35c63c2c",
   "metadata": {},
   "source": [
    "### Time Series"
   ]
  },
  {
   "cell_type": "markdown",
   "id": "2a121f5e-051a-4a73-bfc6-ef92c8ca6cc7",
   "metadata": {},
   "source": [
    "\n",
    "Look at the image of brain activity from a child at the start of an epileptic seizure. It shows 4 seconds of evolution of the first 10 channels of a seizure rhythm at sampling rate sr=1024."
   ]
  },
  {
   "cell_type": "code",
   "execution_count": null,
   "id": "94028a14",
   "metadata": {},
   "outputs": [],
   "source": [
    "path = 'Data/P1_Seizure1.csv'\n",
    "\n",
    "data = read_csv(path, delimiter=r\"\\s+\")\n",
    "\n",
    "data_P1 = data.to_numpy()\n",
    "\n",
    "sr = 1024\n",
    "\n",
    "period = 4\n",
    "\n",
    "channels = 10\n",
    "\n",
    "plot_series(data_P1[:sr*period, :channels], sr);\n",
    "\n",
    "show()\n"
   ]
  },
  {
   "cell_type": "markdown",
   "id": "44a1924f",
   "metadata": {},
   "source": [
    "Using the code utilised in this lesson, import the data from the file `P1_Seizure1.csv` and generate an overview of uni- and multivariate features in the following form:"
   ]
  },
  {
   "cell_type": "markdown",
   "id": "7e79f2fb-db11-45e6-98aa-acb7d6f6cd7d",
   "metadata": {},
   "source": [
    "1. Pick the first two seconds of the recording as background, and the last two seconds as epileptic seizure rhythm. Use the first ten channels of data, in both cases. Using the shape attribute, the data should give a tuple of (2048, 10)."
   ]
  },
  {
   "cell_type": "code",
   "execution_count": null,
   "id": "1879ef73-6c55-4cc9-9720-8c707d067098",
   "metadata": {},
   "outputs": [],
   "source": [
    "\n"
   ]
  },
  {
   "cell_type": "markdown",
   "id": "8fb2a9d7",
   "metadata": {},
   "source": [
    "2. Filter the data to get rid of frequencies below 1 Hz and frequencies faster than 20 Hz."
   ]
  },
  {
   "cell_type": "code",
   "execution_count": null,
   "id": "eec5ba18",
   "metadata": {},
   "outputs": [],
   "source": []
  },
  {
   "cell_type": "markdown",
   "id": "1c4b5ad8",
   "metadata": {},
   "source": [
    "3. Plot time series for both."
   ]
  },
  {
   "cell_type": "code",
   "execution_count": null,
   "id": "ccb5b9f8",
   "metadata": {},
   "outputs": [],
   "source": []
  },
  {
   "cell_type": "markdown",
   "id": "dd176cc5",
   "metadata": {},
   "source": [
    "4. Fourier Transform both filtered datasets and display the Fourier spectra of the first 4 channels. What are the strongest frequencies in each of the two datasets?"
   ]
  },
  {
   "cell_type": "code",
   "execution_count": null,
   "id": "c89936f5",
   "metadata": {},
   "outputs": [],
   "source": []
  },
  {
   "cell_type": "markdown",
   "id": "6474bf5c",
   "metadata": {},
   "source": [
    "5. Plot the correlation matrices of both datasets. Which channels show the strongest change in correlations?"
   ]
  },
  {
   "cell_type": "code",
   "execution_count": null,
   "id": "51f7125f",
   "metadata": {},
   "outputs": [],
   "source": []
  }
 ],
 "metadata": {
  "kernelspec": {
   "display_name": "Python 3 (ipykernel)",
   "language": "python",
   "name": "python3"
  },
  "language_info": {
   "codemirror_mode": {
    "name": "ipython",
    "version": 3
   },
   "file_extension": ".py",
   "mimetype": "text/x-python",
   "name": "python",
   "nbconvert_exporter": "python",
   "pygments_lexer": "ipython3",
   "version": "3.12.4"
  }
 },
 "nbformat": 4,
 "nbformat_minor": 5
}
